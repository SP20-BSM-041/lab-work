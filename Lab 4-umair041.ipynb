{
 "cells": [
  {
   "cell_type": "code",
   "execution_count": 42,
   "id": "1e6bd3dd",
   "metadata": {},
   "outputs": [],
   "source": [
    "import numpy as np\n",
    "import matplotlib.pyplot as plt"
   ]
  },
  {
   "cell_type": "code",
   "execution_count": 43,
   "id": "c714f29d",
   "metadata": {},
   "outputs": [
    {
     "name": "stdout",
     "output_type": "stream",
     "text": [
      "\t f'(x)\t\t err\t\t f''(x)\t\t err\n"
     ]
    }
   ],
   "source": [
    "f =lambda x: 0.1*x**5 - 0.2*x**3 + 0.1*x - 0.2\n",
    "\n",
    "x=0.1\n",
    "h=0.1\n",
    "\n",
    "df1 = 0.09405\n",
    "df2 = -0.118\n",
    "print(\"\\t f'(x)\\t\\t err\\t\\t f''(x)\\t\\t err\")"
   ]
  },
  {
   "cell_type": "code",
   "execution_count": 44,
   "id": "2b056bc5",
   "metadata": {},
   "outputs": [
    {
     "name": "stdout",
     "output_type": "stream",
     "text": [
      "FFD\t 0.086310\t-0.007740\t-0.222000\t-0.104000\n"
     ]
    }
   ],
   "source": [
    "#forward difference\n",
    "dff1 = (f(x+h)-f(x))/h\n",
    "dff2= (f(x+2*h)-2*f(x+h)+f(x))/h**2\n",
    "print(\"FFD\\t% f\\t% f\\t% f\\t% f\"%(dff1,dff1-df1,dff2, dff2-df2))"
   ]
  },
  {
   "cell_type": "code",
   "execution_count": 45,
   "id": "ad3fe70b",
   "metadata": {},
   "outputs": [
    {
     "name": "stdout",
     "output_type": "stream",
     "text": [
      "BFD\t 0.098010\t 0.003960\t 0.000000\t 0.118000\n"
     ]
    }
   ],
   "source": [
    "#backward differences\n",
    "dff1 = (f(x)-f(x-h))/h\n",
    "dff2= (f(x)-2*f(x-h)+f(x-2*h))/h**2\n",
    "print(\"BFD\\t% f\\t% f\\t% f\\t% f\"%(dff1,dff1-df1,dff2, dff2-df2))"
   ]
  },
  {
   "cell_type": "code",
   "execution_count": 46,
   "id": "678cc0b7",
   "metadata": {},
   "outputs": [
    {
     "name": "stdout",
     "output_type": "stream",
     "text": [
      "CFD\t 0.092160\t-0.001890\t-0.117000\t 0.001000\n"
     ]
    }
   ],
   "source": [
    "#central differences\n",
    "dff1 = (f(x+h)-f(x-h))/(2*h)\n",
    "dff2= (f(x+h)-2*f(x)+f(x-h))/h**2\n",
    "print(\"CFD\\t% f\\t% f\\t% f\\t% f\"%(dff1,dff1-df1,dff2, dff2-df2))"
   ]
  },
  {
   "cell_type": "code",
   "execution_count": 47,
   "id": "56806f22",
   "metadata": {},
   "outputs": [
    {
     "name": "stdout",
     "output_type": "stream",
     "text": [
      "\t f'(x)\t\t err\t\t f''(x)\t\t err\n",
      "FFD\t 0.086310\t-0.007740\t-0.222000\t-0.104000\n",
      "BFD\t 0.098010\t 0.003960\t 0.000000\t 0.118000\n",
      "CFD\t 0.092160\t-0.001890\t-0.117000\t 0.001000\n"
     ]
    }
   ],
   "source": [
    "import numpy as np\n",
    "import matplotlib.pyplot as plt\n",
    "f =lambda x: 0.1*x**5 - 0.2*x**3 +0.1*x-0.2\n",
    "\n",
    "x=0.1\n",
    "h=0.1\n",
    "\n",
    "df1 = 0.09405\n",
    "df2 = -0.118\n",
    "print(\"\\t f'(x)\\t\\t err\\t\\t f''(x)\\t\\t err\")\n",
    "\n",
    "#forward differences\n",
    "dff1 = (f(x+h)-f(x))/h\n",
    "dff2= (f(x+2*h)-2*f(x+h)+f(x))/h**2\n",
    "print(\"FFD\\t% f\\t% f\\t% f\\t% f\"%(dff1,dff1-df1,dff2, dff2-df2))\n",
    "\n",
    "#backward differences\n",
    "dff1 = (f(x)-f(x-h))/h\n",
    "dff2= (f(x)-2*f(x-h)+f(x-2*h))/h**2\n",
    "print(\"BFD\\t% f\\t% f\\t% f\\t% f\"%(dff1,dff1-df1,dff2, dff2-df2))\n",
    "\n",
    "#central differences\n",
    "dff1 = (f(x+h)-f(x-h))/(2*h)\n",
    "dff2= (f(x+h)-2*f(x)+f(x-h))/h**2\n",
    "print(\"CFD\\t% f\\t% f\\t% f\\t% f\"%(dff1,dff1-df1,dff2, dff2-df2))"
   ]
  },
  {
   "cell_type": "code",
   "execution_count": 49,
   "id": "4fb487a3",
   "metadata": {},
   "outputs": [
    {
     "data": {
      "image/png": "[encoded data removed]",
      "text/plain": [
       "<Figure size 432x288 with 1 Axes>"
      ]
     },
     "metadata": {
      "needs_background": "light"
     },
     "output_type": "display_data"
    }
   ],
   "source": [
    "import numpy as np\n",
    "import matplotlib.pyplot as plt\n",
    "f =lambda x: 0.1*x**5 - 0.2*x**3 +0.1*x-0.2\n",
    "h=0.01\n",
    "\n",
    "#will create an array of elements between -1 and 1 having 50 equally spaced grid points\n",
    "x= np.linspace(-1,1,50)\n",
    "\n",
    "#central differences\n",
    "dff1 = (f(x+h)-f(x-h))/(2*h)\n",
    "dff2= (f(x+h)-2*f(x)+f(x-h))/h**2\n",
    "\n",
    "#plot\n",
    "plt.plot(x,f(x),'.k',x,dff1,'--b',x,dff2,'-.r')\n",
    "plt.xlabel('x')\n",
    "plt.ylabel('y')\n",
    "\n",
    "plt.legend([\"f(x)\",\"f'(x)\",\"f''(x)\"])\n",
    "plt.grid()"
   ]
  },
  {
   "cell_type": "code",
   "execution_count": 50,
   "id": "cdebe0ea",
   "metadata": {},
   "outputs": [
    {
     "data": {
      "text/plain": [
       "Text(0.5, 0, 'x')"
      ]
     },
     "execution_count": 50,
     "metadata": {},
     "output_type": "execute_result"
    },
    {
     "data": {
      "image/png": "[encoded data removed]",
      "text/plain": [
       "<Figure size 432x288 with 1 Axes>"
      ]
     },
     "metadata": {
      "needs_background": "light"
     },
     "output_type": "display_data"
    }
   ],
   "source": [
    "plt.xlabel('x')"
   ]
  },
  {
   "cell_type": "code",
   "execution_count": 51,
   "id": "8cbeed81",
   "metadata": {},
   "outputs": [
    {
     "data": {
      "text/plain": [
       "Text(0, 0.5, 'y')"
      ]
     },
     "execution_count": 51,
     "metadata": {},
     "output_type": "execute_result"
    },
    {
     "data": {
      "image/png": "[encoded data removed]",
      "text/plain": [
       "<Figure size 432x288 with 1 Axes>"
      ]
     },
     "metadata": {
      "needs_background": "light"
     },
     "output_type": "display_data"
    }
   ],
   "source": [
    "plt.ylabel('y')"
   ]
  },
  {
   "cell_type": "code",
   "execution_count": 52,
   "id": "125f0e60",
   "metadata": {},
   "outputs": [
    {
     "data": {
      "image/png": "[encoded data removed]",
      "text/plain": [
       "<Figure size 432x288 with 1 Axes>"
      ]
     },
     "metadata": {
      "needs_background": "light"
     },
     "output_type": "display_data"
    }
   ],
   "source": [
    "plt.legend([\"f(x)\",\"f'(x)\",\"f''(x)\"])\n",
    "plt.grid()"
   ]
  },
  {
   "cell_type": "code",
   "execution_count": 53,
   "id": "155f7237",
   "metadata": {},
   "outputs": [
    {
     "data": {
      "image/png": "[encoded data removed]",
      "text/plain": [
       "<Figure size 432x288 with 1 Axes>"
      ]
     },
     "metadata": {
      "needs_background": "light"
     },
     "output_type": "display_data"
    }
   ],
   "source": [
    "import numpy as np\n",
    "import matplotlib.pyplot as plt\n",
    "f =lambda x: 0.1*x**5 - 0.2*x**3 +0.1*x-0.2\n",
    "h=0.01\n",
    "\n",
    "#will create an array of elements between -1 and 1 having 50 equally spaced grid points\n",
    "x= np.linspace(-1,1,50)\n",
    "\n",
    "#central differences\n",
    "dff1 = (f(x+h)-f(x-h))/(2*h)\n",
    "dff2= (f(x+h)-2*f(x)+f(x-h))/h**2\n",
    "\n",
    "#plot\n",
    "plt.plot(x,f(x),'.k',x,dff1,'--b',x,dff2,'-.r')\n",
    "plt.xlabel('x')\n",
    "plt.ylabel('y')\n",
    "\n",
    "plt.legend([\"f(x)\",\"f'(x)\",\"f''(x)\"])\n",
    "plt.grid()"
   ]
  },
  {
   "cell_type": "code",
   "execution_count": null,
   "id": "fa439288",
   "metadata": {},
   "outputs": [],
   "source": []
  },
  {
   "cell_type": "code",
   "execution_count": null,
   "id": "97c9b6f9",
   "metadata": {},
   "outputs": [],
   "source": []
  },
  {
   "cell_type": "code",
   "execution_count": null,
   "id": "7eba2869",
   "metadata": {},
   "outputs": [],
   "source": [
    "UMAIR HASSAN"
   ]
  }
 ],
 "metadata": {
  "kernelspec": {
   "display_name": "Python 3 (ipykernel)",
   "language": "python",
   "name": "python3"
  },
  "language_info": {
   "codemirror_mode": {
    "name": "ipython",
    "version": 3
   },
   "file_extension": ".py",
   "mimetype": "text/x-python",
   "name": "python",
   "nbconvert_exporter": "python",
   "pygments_lexer": "ipython3",
   "version": "3.9.7"
  }
 },
 "nbformat": 4,
 "nbformat_minor": 5
}
